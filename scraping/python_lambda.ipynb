{
  "nbformat": 4,
  "nbformat_minor": 0,
  "metadata": {
    "colab": {
      "name": "python_lambda.ipynb",
      "provenance": [],
      "authorship_tag": "ABX9TyOypWxkCFCL1dA8w6rn7Noo"
    },
    "kernelspec": {
      "name": "python3",
      "display_name": "Python 3"
    },
    "language_info": {
      "name": "python"
    }
  },
  "cells": [
    {
      "cell_type": "code",
      "metadata": {
        "colab": {
          "base_uri": "https://localhost:8080/"
        },
        "id": "XaWyKS4rcpIn",
        "outputId": "5c4fb694-99b4-41ff-b02e-654810708efb"
      },
      "source": [
        "(lambda first, second: first* second + 20)(10, 3)\n",
        "# (람다 변수(선언) 콜론 (사용) 식) (변수 값)"
      ],
      "execution_count": 12,
      "outputs": [
        {
          "output_type": "execute_result",
          "data": {
            "text/plain": [
              "50"
            ]
          },
          "metadata": {
            "tags": []
          },
          "execution_count": 12
        }
      ]
    },
    {
      "cell_type": "code",
      "metadata": {
        "id": "xAsK4mpCfujA"
      },
      "source": [
        "def plus(first01):\n",
        "  # result= first01 + 20\n",
        "  # return result\n",
        "  return first01 + 20"
      ],
      "execution_count": 13,
      "outputs": []
    },
    {
      "cell_type": "code",
      "metadata": {
        "colab": {
          "base_uri": "https://localhost:8080/"
        },
        "id": "1exrhDuVgf3x",
        "outputId": "60e74b14-ac07-4109-f645-ff14277b2b9b"
      },
      "source": [
        "plus(30), type(plus)"
      ],
      "execution_count": 14,
      "outputs": [
        {
          "output_type": "execute_result",
          "data": {
            "text/plain": [
              "(50, function)"
            ]
          },
          "metadata": {
            "tags": []
          },
          "execution_count": 14
        }
      ]
    },
    {
      "cell_type": "code",
      "metadata": {
        "id": "mS-WzuqJgg3j"
      },
      "source": [
        "plus_02= (lambda first: first + 20)"
      ],
      "execution_count": 15,
      "outputs": []
    },
    {
      "cell_type": "code",
      "metadata": {
        "colab": {
          "base_uri": "https://localhost:8080/"
        },
        "id": "ROGKwOSAhiHh",
        "outputId": "20450c0b-2966-44af-badb-1bbc1b203001"
      },
      "source": [
        "plus_02(30), type(plus_02)"
      ],
      "execution_count": 16,
      "outputs": [
        {
          "output_type": "execute_result",
          "data": {
            "text/plain": [
              "(50, function)"
            ]
          },
          "metadata": {
            "tags": []
          },
          "execution_count": 16
        }
      ]
    },
    {
      "cell_type": "code",
      "metadata": {
        "id": "IC5md0i3h0Le"
      },
      "source": [
        ""
      ],
      "execution_count": 16,
      "outputs": []
    }
  ]
}