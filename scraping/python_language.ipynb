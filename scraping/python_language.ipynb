{
  "nbformat": 4,
  "nbformat_minor": 0,
  "metadata": {
    "colab": {
      "name": "python_language.ipynb",
      "provenance": [],
      "collapsed_sections": [],
      "authorship_tag": "ABX9TyPeq7VBNhuMYz4aE6v+Xd6b"
    },
    "kernelspec": {
      "name": "python3",
      "display_name": "Python 3"
    },
    "language_info": {
      "name": "python"
    }
  },
  "cells": [
    {
      "cell_type": "code",
      "metadata": {
        "id": "NK51pZtoTOR-"
      },
      "source": [
        "import numpy as np"
      ],
      "execution_count": 46,
      "outputs": []
    },
    {
      "cell_type": "code",
      "metadata": {
        "colab": {
          "base_uri": "https://localhost:8080/",
          "height": 35
        },
        "id": "02-Cpi_yVXHQ",
        "outputId": "1e48b5dd-c8b7-4212-f416-1aa65c40c9e8"
      },
      "source": [
        "np.__version__\n",
        "# 패키지의 버전 확인. '__'-> 내장변수"
      ],
      "execution_count": 47,
      "outputs": [
        {
          "output_type": "execute_result",
          "data": {
            "application/vnd.google.colaboratory.intrinsic+json": {
              "type": "string"
            },
            "text/plain": [
              "'1.19.5'"
            ]
          },
          "metadata": {
            "tags": []
          },
          "execution_count": 47
        }
      ]
    },
    {
      "cell_type": "code",
      "metadata": {
        "id": "QVb8SM5TJDWL"
      },
      "source": [
        "def onehotcylinder(cylinders):\n",
        "  if cylinders == 3:\n",
        "    cylinder = np.array([1,0,0,0,0])\n",
        "  elif cylinders == 4:\n",
        "    cylinder = np.array([0,1,0,0,0])\n",
        "  elif cylinders == 5:\n",
        "    cylinder = np.array([0,0,1,0,0])\n",
        "  elif cylinders == 6:\n",
        "    cylinder = np.array([0,0,0,1,0])\n",
        "  else : # 8\n",
        "    cylinder = np.array([0,0,0,0,1])  \n",
        "  return cylinder"
      ],
      "execution_count": 48,
      "outputs": []
    },
    {
      "cell_type": "code",
      "metadata": {
        "colab": {
          "base_uri": "https://localhost:8080/"
        },
        "id": "0HwU2nllJPyv",
        "outputId": "dc069b6a-5cf5-46d8-bd8a-e227acd4daac"
      },
      "source": [
        "onehotcylinder(4), onehotcylinder(6)"
      ],
      "execution_count": 49,
      "outputs": [
        {
          "output_type": "execute_result",
          "data": {
            "text/plain": [
              "(array([0, 1, 0, 0, 0]), array([0, 0, 0, 1, 0]))"
            ]
          },
          "metadata": {
            "tags": []
          },
          "execution_count": 49
        }
      ]
    },
    {
      "cell_type": "code",
      "metadata": {
        "id": "ajlZ9zQLVrKQ"
      },
      "source": [
        "displacement= 307.0\n",
        "horsepower= 130.0\n",
        "weight= 3504.0\n",
        "accel= 12.0\n",
        "cylinders = 8\n",
        "origin = 1\n",
        "\n",
        "# cylinder= 8, org= 1 -> onehot encoding\n",
        "\n",
        "x_continus= np.array([displacement, horsepower, weight, accel])\n",
        "cylinder= onehotcylinder(cylinders) # cylinder = np.array([0,0,0,0,1]) \n",
        "org= np.array([1,0,0])"
      ],
      "execution_count": 50,
      "outputs": []
    },
    {
      "cell_type": "code",
      "metadata": {
        "colab": {
          "base_uri": "https://localhost:8080/"
        },
        "id": "jz2IbW49XEXv",
        "outputId": "98bcc441-529e-4e33-c6c1-dc4a04cc6b71"
      },
      "source": [
        "type(x_continus)"
      ],
      "execution_count": 51,
      "outputs": [
        {
          "output_type": "execute_result",
          "data": {
            "text/plain": [
              "numpy.ndarray"
            ]
          },
          "metadata": {
            "tags": []
          },
          "execution_count": 51
        }
      ]
    },
    {
      "cell_type": "code",
      "metadata": {
        "colab": {
          "base_uri": "https://localhost:8080/"
        },
        "id": "F92y9c2QXf9B",
        "outputId": "67f9b02d-8231-4ba3-fd50-7384cbc25090"
      },
      "source": [
        "# np.concatenate((a, b), axis=None) 이어 붙이기\n",
        "result= np.concatenate((x_continus, cylinder, org), axis=None)\n",
        "result.shape, result # 12행"
      ],
      "execution_count": 52,
      "outputs": [
        {
          "output_type": "execute_result",
          "data": {
            "text/plain": [
              "((12,),\n",
              " array([3.070e+02, 1.300e+02, 3.504e+03, 1.200e+01, 0.000e+00, 0.000e+00,\n",
              "        0.000e+00, 0.000e+00, 1.000e+00, 1.000e+00, 0.000e+00, 0.000e+00]))"
            ]
          },
          "metadata": {
            "tags": []
          },
          "execution_count": 52
        }
      ]
    },
    {
      "cell_type": "code",
      "metadata": {
        "id": "5pjPwxWsZIiF"
      },
      "source": [
        ""
      ],
      "execution_count": 52,
      "outputs": []
    },
    {
      "cell_type": "code",
      "metadata": {
        "colab": {
          "base_uri": "https://localhost:8080/"
        },
        "id": "DOs3BxwdaiTy",
        "outputId": "d3538f36-da61-4fc3-931b-bfa10eb6e4ab"
      },
      "source": [
        "# result.reshape(1, 12) # hard coding (행 수, 열 수)\n",
        "result= result.reshape(-1, result.size) # soft coding 컬럼의 수가 바뀔 수 있음 \n",
        "result, result.shape"
      ],
      "execution_count": 53,
      "outputs": [
        {
          "output_type": "execute_result",
          "data": {
            "text/plain": [
              "(array([[3.070e+02, 1.300e+02, 3.504e+03, 1.200e+01, 0.000e+00, 0.000e+00,\n",
              "         0.000e+00, 0.000e+00, 1.000e+00, 1.000e+00, 0.000e+00, 0.000e+00]]),\n",
              " (1, 12))"
            ]
          },
          "metadata": {
            "tags": []
          },
          "execution_count": 53
        }
      ]
    },
    {
      "cell_type": "markdown",
      "metadata": {
        "id": "cBFOrCWGi5_E"
      },
      "source": [
        "### function 이해"
      ]
    },
    {
      "cell_type": "code",
      "metadata": {
        "id": "UBFqa8DxbAMM"
      },
      "source": [
        "def sum():\n",
        "  first= 21\n",
        "  second= 14\n",
        "  result= first + second\n",
        "  return result"
      ],
      "execution_count": 54,
      "outputs": []
    },
    {
      "cell_type": "code",
      "metadata": {
        "colab": {
          "base_uri": "https://localhost:8080/"
        },
        "id": "ijYs99r5jH9B",
        "outputId": "889c09eb-1b0e-4aa8-cdba-90380924842c"
      },
      "source": [
        "sum()"
      ],
      "execution_count": 55,
      "outputs": [
        {
          "output_type": "execute_result",
          "data": {
            "text/plain": [
              "35"
            ]
          },
          "metadata": {
            "tags": []
          },
          "execution_count": 55
        }
      ]
    },
    {
      "cell_type": "code",
      "metadata": {
        "id": "JjClXDaRnK0H"
      },
      "source": [
        "def sum(f1, s2):\n",
        "  first= f1 \n",
        "  second= s2\n",
        "  result= first + second\n",
        "  return result"
      ],
      "execution_count": 56,
      "outputs": []
    },
    {
      "cell_type": "code",
      "metadata": {
        "id": "30Dz8D_8w8Ea"
      },
      "source": [
        "# def differenceVars(*var1, **args2):\n",
        "def diffparam(*var_list, **var_dict):\n",
        "  print(var_dict)\n",
        "  result1= len(var_list)\n",
        "  return result1"
      ],
      "execution_count": 57,
      "outputs": []
    },
    {
      "cell_type": "code",
      "metadata": {
        "colab": {
          "base_uri": "https://localhost:8080/"
        },
        "id": "aA2WbkdTzm8-",
        "outputId": "d0024a7c-d500-4ab5-8841-d5b5fd752f79"
      },
      "source": [
        "diffparam(1, 2, 3, a=2, b=3) # 키 없는 값은 알아서 리스트"
      ],
      "execution_count": 58,
      "outputs": [
        {
          "output_type": "stream",
          "text": [
            "{'a': 2, 'b': 3}\n"
          ],
          "name": "stdout"
        },
        {
          "output_type": "execute_result",
          "data": {
            "text/plain": [
              "3"
            ]
          },
          "metadata": {
            "tags": []
          },
          "execution_count": 58
        }
      ]
    },
    {
      "cell_type": "code",
      "metadata": {
        "colab": {
          "base_uri": "https://localhost:8080/"
        },
        "id": "5TRICS3uzqTS",
        "outputId": "b03f7a20-f929-43a2-f5cb-1dae2b721ebd"
      },
      "source": [
        "diffparam(1, 2, 3, 4, 5, c=5, d=6, a=2,b=3)"
      ],
      "execution_count": 59,
      "outputs": [
        {
          "output_type": "stream",
          "text": [
            "{'c': 5, 'd': 6, 'a': 2, 'b': 3}\n"
          ],
          "name": "stdout"
        },
        {
          "output_type": "execute_result",
          "data": {
            "text/plain": [
              "5"
            ]
          },
          "metadata": {
            "tags": []
          },
          "execution_count": 59
        }
      ]
    },
    {
      "cell_type": "code",
      "metadata": {
        "id": "vU-ubhO53Ryy"
      },
      "source": [
        ""
      ],
      "execution_count": 59,
      "outputs": []
    },
    {
      "cell_type": "code",
      "metadata": {
        "id": "9INUTJCC3XDi"
      },
      "source": [
        ""
      ],
      "execution_count": 59,
      "outputs": []
    },
    {
      "cell_type": "code",
      "metadata": {
        "id": "vzQmDnba37XW"
      },
      "source": [
        ""
      ],
      "execution_count": 59,
      "outputs": []
    }
  ]
}