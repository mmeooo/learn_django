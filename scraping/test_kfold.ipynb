{
  "nbformat": 4,
  "nbformat_minor": 0,
  "metadata": {
    "colab": {
      "name": "kfold.ipynb",
      "provenance": [],
      "collapsed_sections": [],
      "authorship_tag": "ABX9TyOHTDVWX9DSSaT5/cMEnRgK"
    },
    "kernelspec": {
      "name": "python3",
      "display_name": "Python 3"
    },
    "language_info": {
      "name": "python"
    }
  },
  "cells": [
    {
      "cell_type": "markdown",
      "metadata": {
        "id": "XZVSS8Ylzzh6"
      },
      "source": [
        " ## class sklearn.model_selection.KFold(n_splits=5, *, shuffle=False, random_state=None)"
      ]
    },
    {
      "cell_type": "code",
      "metadata": {
        "colab": {
          "base_uri": "https://localhost:8080/"
        },
        "id": "CH9IoY6vxKwD",
        "outputId": "ffcb1f15-a28f-4d51-b6b0-5c1a2bca50ff"
      },
      "source": [
        "import numpy as np\n",
        "X = np.array([[1, 2], [3, 4], [1, 2], [3, 4], [5, 6], [7, 8], [9, 0]])\n",
        "y = np.array([1, 2, 3, 4, 2, 3, 1])\n",
        "X.shape, y.shape"
      ],
      "execution_count": 4,
      "outputs": [
        {
          "output_type": "execute_result",
          "data": {
            "text/plain": [
              "((7, 2), (7,))"
            ]
          },
          "metadata": {
            "tags": []
          },
          "execution_count": 4
        }
      ]
    },
    {
      "cell_type": "code",
      "metadata": {
        "colab": {
          "base_uri": "https://localhost:8080/"
        },
        "id": "gXrn4MLLz09P",
        "outputId": "987ac821-ab15-4e42-901a-2028ba24e351"
      },
      "source": [
        "from sklearn.model_selection import KFold\n",
        "kf = KFold(n_splits= 3, shuffle= True)\n",
        "kf.get_n_splits(X)"
      ],
      "execution_count": 10,
      "outputs": [
        {
          "output_type": "execute_result",
          "data": {
            "text/plain": [
              "3"
            ]
          },
          "metadata": {
            "tags": []
          },
          "execution_count": 10
        }
      ]
    },
    {
      "cell_type": "code",
      "metadata": {
        "colab": {
          "base_uri": "https://localhost:8080/"
        },
        "id": "0gLuiqCq1NNv",
        "outputId": "2f3df435-d486-4da4-8bc8-c6433fe043a9"
      },
      "source": [
        "for first, second in kf.split(X):\n",
        "  print(first, ' : ', second)\n",
        "  # 데이터를 n번 나눈다\n",
        "  # X 배열의 인덱스 값을 나타냄\n",
        "  # [ train용 ] : [ test용 ]"
      ],
      "execution_count": 12,
      "outputs": [
        {
          "output_type": "stream",
          "text": [
            "[3 4 5 6]  :  [0 1 2]\n",
            "[0 1 2 3 6]  :  [4 5]\n",
            "[0 1 2 4 5]  :  [3 6]\n"
          ],
          "name": "stdout"
        }
      ]
    },
    {
      "cell_type": "code",
      "metadata": {
        "colab": {
          "base_uri": "https://localhost:8080/"
        },
        "id": "1mXMh6u32D0O",
        "outputId": "e722f4e4-8813-420c-9230-c5bac8fc3de1"
      },
      "source": [
        "type(first), type(second), first.shape, second.shape"
      ],
      "execution_count": 15,
      "outputs": [
        {
          "output_type": "execute_result",
          "data": {
            "text/plain": [
              "(numpy.ndarray, numpy.ndarray, (5,), (2,))"
            ]
          },
          "metadata": {
            "tags": []
          },
          "execution_count": 15
        }
      ]
    },
    {
      "cell_type": "code",
      "metadata": {
        "colab": {
          "base_uri": "https://localhost:8080/"
        },
        "id": "PtZ10hpY3yT6",
        "outputId": "322bd2c3-bcc4-4076-e811-16b141156aac"
      },
      "source": [
        "for first, second in kf.split(X):\n",
        "  print(first, ' : ', second)\n",
        "  x_train= X[first]\n",
        "  print(x_train)\n",
        "  x_test= X[second]\n",
        "  print(x_test)\n",
        "  # 첫줄: 인덱스 값 \n",
        "  # 나머지 줄: 인덱스 위치에 있는 값"
      ],
      "execution_count": 18,
      "outputs": [
        {
          "output_type": "stream",
          "text": [
            "[0 1 4 5]  :  [2 3 6]\n",
            "[[1 2]\n",
            " [3 4]\n",
            " [5 6]\n",
            " [7 8]]\n",
            "[[1 2]\n",
            " [3 4]\n",
            " [9 0]]\n",
            "[1 2 3 4 6]  :  [0 5]\n",
            "[[3 4]\n",
            " [1 2]\n",
            " [3 4]\n",
            " [5 6]\n",
            " [9 0]]\n",
            "[[1 2]\n",
            " [7 8]]\n",
            "[0 2 3 5 6]  :  [1 4]\n",
            "[[1 2]\n",
            " [1 2]\n",
            " [3 4]\n",
            " [7 8]\n",
            " [9 0]]\n",
            "[[3 4]\n",
            " [5 6]]\n"
          ],
          "name": "stdout"
        }
      ]
    },
    {
      "cell_type": "code",
      "metadata": {
        "id": "CfSJ03Fi4FRA"
      },
      "source": [
        ""
      ],
      "execution_count": null,
      "outputs": []
    }
  ]
}